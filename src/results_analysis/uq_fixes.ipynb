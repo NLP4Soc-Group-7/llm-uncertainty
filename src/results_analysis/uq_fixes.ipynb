{
 "cells": [
  {
   "cell_type": "code",
   "execution_count": 1,
   "metadata": {},
   "outputs": [],
   "source": [
    "import os\n",
    "import numpy as np\n",
    "import sys\n",
    "import json\n",
    "os.chdir(os.path.join(os.getcwd(), '../..'))\n",
    "from src.download_models import get_all_model_dict\n",
    "from src.pipeline_components.number_parser import extract_number_from_text"
   ]
  },
  {
   "cell_type": "code",
   "execution_count": 2,
   "metadata": {},
   "outputs": [
    {
     "name": "stdout",
     "output_type": "stream",
     "text": [
      "Current working directory: /home/funkytunk/Desktop/Repositories/llm-uncertainty\n",
      "sys.path: ['/home/funkytunk/miniconda/envs/llm-uncertainty/lib/python310.zip', '/home/funkytunk/miniconda/envs/llm-uncertainty/lib/python3.10', '/home/funkytunk/miniconda/envs/llm-uncertainty/lib/python3.10/lib-dynload', '', '/home/funkytunk/miniconda/envs/llm-uncertainty/lib/python3.10/site-packages']\n",
      "Does results exist in cwd? True\n",
      "Does src exist in cwd? True\n"
     ]
    }
   ],
   "source": [
    "print(\"Current working directory:\", os.getcwd())\n",
    "print(\"sys.path:\", sys.path)\n",
    "print(\"Does results exist in cwd?\", os.path.exists(\"results\"))\n",
    "print(\"Does src exist in cwd?\", os.path.exists(\"src\"))"
   ]
  },
  {
   "cell_type": "code",
   "execution_count": 7,
   "metadata": {},
   "outputs": [
    {
     "name": "stdout",
     "output_type": "stream",
     "text": [
      "100\n",
      "100\n",
      "100\n"
     ]
    }
   ],
   "source": [
    "models = get_all_model_dict()\n",
    "# models.pop(\"openai\") \n",
    "# models.pop(\"Meta-Llama-3.1-8B-Instruct-GPTQ-INT4\") \n",
    "# models.pop(\"Mistral-7B-Instruct-v0.3-GPTQ-4bit\") \n",
    "\n",
    "verbalised_responses = {}\n",
    "for model_name in models.keys():\n",
    "    results_path = os.path.join(\"results\", model_name, \"uncertainty_estimates\", \"verbalised_responses.json\")\n",
    "    if not os.path.exists(results_path):\n",
    "        print(f\"Results file not found at {results_path}\")\n",
    "        continue\n",
    "\n",
    "    responses = json.load(open(results_path))\n",
    "    verbalised_responses[model_name] = responses\n",
    "    print(len(responses))"
   ]
  },
  {
   "cell_type": "code",
   "execution_count": 8,
   "metadata": {},
   "outputs": [
    {
     "name": "stdout",
     "output_type": "stream",
     "text": [
      "Analysis of openai\n",
      "First 10 UQs: [0.05, 0.7, 0.05, 0.9, 0.65, 0.95, 0.8, 0.1, 0.1, 0.9]\n",
      "Mean UQ: 0.5525\n",
      "Std UQ: 0.3717778234376009\n",
      "Invalid score count: 0\n",
      "Analysis of Meta-Llama-3.1-8B-Instruct-GPTQ-INT4\n",
      "First 10 UQs: [0.9, 0.02, 0.99, 0.6, 0.62, 0.68, 1.0, -1.0, 0.95, 0.7]\n",
      "Mean UQ: 0.4286875125464176\n",
      "Std UQ: 0.35504239179816516\n",
      "Invalid score count: 25\n",
      "Analysis of Mistral-7B-Instruct-v0.3-GPTQ-4bit\n",
      "First 10 UQs: [0.85, 0.85, 0.92, 0.7, 0.25, 0.6, 0.65, 0.75, 0.7, 0.6]\n",
      "Mean UQ: 0.681989247311828\n",
      "Std UQ: 0.20972478097580036\n",
      "Invalid score count: 7\n"
     ]
    }
   ],
   "source": [
    "uqs = {}    \n",
    "for model_name, responses in verbalised_responses.items():\n",
    "    verbalised_uq = []\n",
    "    invalid_score_count = 0\n",
    "    print(f\"Analysis of {model_name}\")\n",
    "    for sentence, response in responses.items():\n",
    "            uncertainty_score = extract_number_from_text(\n",
    "                response, \n",
    "                prefix = \"uncertainty score\",\n",
    "                prefix_only=True\n",
    "            )\n",
    "\n",
    "            if uncertainty_score == -1.0:\n",
    "                invalid_score_count += 1\n",
    "                verbalised_uq.append(-1.0)\n",
    "            else:\n",
    "                uncertainty = uncertainty_score / 100.0\n",
    "                verbalised_uq.append(uncertainty)\n",
    "    valid_uqs = [uq for uq in verbalised_uq if uq != -1.0]\n",
    "    print(f\"First 10 UQs: {verbalised_uq[0:10]}\")\n",
    "    print(f\"Mean UQ: {np.mean(valid_uqs)}\")\n",
    "    print(f\"Std UQ: {np.std(valid_uqs)}\")\n",
    "    print(f\"Invalid score count: {invalid_score_count}\")\n",
    "    uqs[model_name] = np.array(verbalised_uq)\n",
    "\n"
   ]
  },
  {
   "cell_type": "code",
   "execution_count": 5,
   "metadata": {},
   "outputs": [
    {
     "name": "stdout",
     "output_type": "stream",
     "text": [
      "\n",
      "=== openai ===\n",
      "\n",
      "Sentence: Blanco established himself earlier in his career working for Dr. Luke's Kasz Money Productions.\n",
      "Response: 1. The statement presents information about Blanco's career, specifically mentioning his association with Dr. Luke's Kasz Money Productions. It describes a factual situation without any emotional language, personal interpretation, or subjective opinions. The language used is straightforward and reports on a professional affiliation.\n",
      "\n",
      "2. The proposed answer \"objective\" makes sense because the sentence merely states a fact regarding Blanco's career and does not reflect any personal viewpoint or evaluation by the author. It presents a specific event that can be verified and does not carry emotional or opinion-based connotations.\n",
      "\n",
      "3. There are no ambiguities in this statement. The information provided can be independently verified and does not lend itself to multiple interpretations that could indicate subjectivity. The focus remains solely on factual content.\n",
      "\n",
      "4. Based on the analysis, I am very confident in the proposed answer. The sentence is clearly factual with no subjective markers present.\n",
      "\n",
      "Uncertainty score: 5\n",
      "UQ Score: 0.050\n",
      "\n",
      "Sentence: RULE 13: ARTIFICIAL INTELLIGENCE  Not only this, but Gina also created an AI model of herself to achieve immortality.\n",
      "Response: 1. In examining the statement, the phrase \"Gina also created an AI model of herself to achieve immortality\" presents a factual assertion about Gina's actions. The statement does not contain any emotional language, opinions, or first-person perspectives. It appears to simply describe a scenario regarding artificial intelligence and the concept of immortality as expressed through Gina's actions.\n",
      "\n",
      "2. The proposed answer \"objective\" makes sense because the sentence conveys what seems to be a straightforward fact without the author inserting any personal interpretation or emotional commentary. It describes an action (creating an AI model) and its purpose (to achieve immortality) without any subjective language.\n",
      "\n",
      "3. However, the idea of achieving immortality through an AI model could be interpreted in a subjective context since it introduces a philosophical concept that lacks concrete factual verification. While the action of creating an AI model could be objective, the goal of \"achieving immortality\" carries subjective implications, which could potentially affect the classification. It is unclear if this goal is presented as a factual ambition or if it includes a level of speculation or personal belief regarding the implications of AI.\n",
      "\n",
      "4. Given that the majority of the sentence focuses on a specific action that seems factual, but also touches upon a speculative concept (immortality), I would rate my confidence in the proposed answer as somewhat high, yet acknowledge the potential for ambiguity due to the philosophical nature of immortality. Therefore, I would assign an uncertainty score that reflects the slight unease with the classification.\n",
      "\n",
      "Uncertainty score: 70\n",
      "UQ Score: 0.700\n",
      "\n",
      "Sentence: The valuation is required by law and the figure is assessed independently by a pension specialist and has been reviewed by the National Audit Office.\n",
      "Response: 1. The statement presents factual information regarding the legal requirement for a valuation, the independent assessment by a pension specialist, and the review by the National Audit Office. The use of terms like \"required by law\" and \"assessed independently\" emphasizes a straightforward, fact-based reporting without personal opinion or bias.\n",
      "\n",
      "2. The proposed answer \"objective\" is fitting because the sentence conveys concrete information regarding a legal process and the validation of the valuation through established authorities, which aligns with the definition of objective content.\n",
      "\n",
      "3. There are no significant ambiguities present in the statement. It does not reflect any personal opinions or emotional stances but instead presents facts about legal and procedural aspects. The clarity of the language indicates that the information can be verified independently, reinforcing the objective nature of the content.\n",
      "\n",
      "4. I am very confident in this classification. The sentence lacks any subjective indicators and focuses solely on factual reporting about the valuation process.\n",
      "\n",
      "Uncertainty score: 5\n",
      "UQ Score: 0.050\n",
      "\n",
      "Sentence: A sip can really hit the spot after a long bike ride or a walk.\n",
      "Response: 1. The statement uses the phrase \"can really hit the spot,\" which is a colloquial expression suggesting satisfaction or fulfillment. This is indicative of personal preference or opinion. Additionally, the context of the statement suggests a personal experience tied to the act of drinking after physical activity, further reinforcing its subjective nature.\n",
      "\n",
      "2. The proposed answer \"subjective\" is appropriate here because the phrase reflects a personal opinion about the experience of consuming a drink after exercise. It does not provide a factual statement that can be universally agreed upon or verified. Instead, it conveys an emotional response tied to a specific situation.\n",
      "\n",
      "3. There may be slight ambiguity in whether the statement is solely personal or if it could be interpreted as a common sentiment that many might agree with. However, the use of \"can really hit the spot\" still leans heavily toward expressing a personal experience rather than an objective fact.\n",
      "\n",
      "4. I am quite confident in this classification since the statement clearly reflects a personal sentiment tied to an experience, rather than a neutral observation. The language used strongly suggests an emotional and subjective viewpoint.\n",
      "\n",
      "Uncertainty score: 90\n",
      "UQ Score: 0.900\n",
      "\n",
      "Sentence: Lobster!\"\n",
      "Response: 1. The statement \"Lobster!\" is very brief and does not contain any elaborate context, tone, or additional wording that could provide further insight. It is simply a noun and does not include verbs or modifiers that indicate an opinion or personal stance.\n",
      "\n",
      "2. The proposed answer \"objective\" makes sense in that the word \"lobster\" by itself does not convey a subjective opinion or emotional stance. It refers to a type of seafood without additional commentary or interpretation, which aligns with the definition of objective content.\n",
      "\n",
      "3. However, the statement is very vague. Without context, it could be part of a subjective expression, for example, excitement about lobsters or a declaration in a particular scenario. Thus, there exists some ambiguity because the lack of context means we can't definitively ascertain whether it is purely objective or if it could represent a personal feeling or perspective (like enthusiasm or a declaration of preference).\n",
      "\n",
      "4. Considering these factors, I feel moderately confident in classifying the proposed answer as objective, but due to the lack of context and the briefness of the statement, I cannot be entirely certain.\n",
      "\n",
      "Uncertainty score: 65\n",
      "UQ Score: 0.650\n",
      "\n",
      "Sentence: But this is precisely the reason why Labour must reject the austerian urges that, inevitably, spring from the credit card analogy.\n",
      "Response: 1. The statement utilizes words and phrases that indicate a perspective or opinion. The phrase \"must reject\" implies a strong recommendation and reflects the author's personal view on the actions that Labour should take. Additionally, \"austerian urges\" carries a negative connotation that suggests a disapproval of those urges. The term \"inevitably\" implies a degree of certainty in the author's belief about the connection between austerity and the credit card analogy, indicating a personal interpretation rather than a neutral presentation of facts.\n",
      "\n",
      "2. The proposed answer \"subjective\" is appropriate because the sentence articulates an opinion on what Labour should do in response to a specific financial analogy. It does not present objective facts but instead conveys the author's judgment and interpretation about the political and economic implications of the credit card analogy. This aligns with the definition of subjective content.\n",
      "\n",
      "3. There are no significant ambiguities in the statement. The language used is overtly opinionated, with the author expressing a clear stance on a political issue. The use of terms like \"must reject\" and \"austerian urges\" signals a viewpoint rather than an impartial description or factual statement.\n",
      "\n",
      "4. I am highly confident in this classification because the subjective elements are prominent and unambiguous in the context of the statement. The author's view on Labour's course of action is clearly conveyed.\n",
      "\n",
      "Uncertainty score: 95\n",
      "UQ Score: 0.950\n",
      "\n",
      "Sentence: Googled how to cook a good lobster and I read how hard it is to get it good because it can turn very tough, rubbery.\n",
      "Response: 1. The statement discusses searching for information on how to cook lobster and mentions a potential outcome of cooking it incorrectly (\"it can turn very tough, rubbery\"). While the author describes findings from their search, the wording does include phrases that could suggest a personal struggle or concern (e.g., \"how hard it is to get it good\"). \n",
      "\n",
      "2. The proposed answer \"objective\" does not fully align with the content of the statement. While there is an element of sharing factual information regarding lobster cooking, the inclusion of \"how hard it is to get it good\" introduces a subjective perspective, indicating personal concern about the cooking process.\n",
      "\n",
      "3. The ambiguity arises from the balance between factual information about cooking lobster and the personal interpretation of difficulty in achieving a good result. This blend of subjective experience (difficulty and potential outcomes) complicates a clear classification.\n",
      "\n",
      "4. My confidence in the proposed classification as \"objective\" is low due to the evident personal tone and subjective reflection on the cooking process and its challenges. The sentence leans towards expressing personal apprehension and experience rather than stating purely factual content.\n",
      "\n",
      "Uncertainty score: 80\n",
      "UQ Score: 0.800\n",
      "\n",
      "Sentence: Apartments cost from £392 per week to rent, which makes it more expensive than an average room in first-year halls (a single room without bathroom typically costs £250 per week) but more affordable than a lot of the postgraduate accommodation on offer.\n",
      "Response: 1. The statement provides factual information about the costs of renting apartments and compares them to the costs of first-year halls and postgraduate accommodation. The use of specific figures (£392 per week for apartments, £250 per week for first-year halls) indicates a focus on presenting verifiable data rather than personal opinion. The tone is neutral and informative.\n",
      "\n",
      "2. The proposed answer \"objective\" is appropriate because the statement does not express any personal opinions or interpretations. It sticks to facts and comparisons that can be independently verified. It describes the situation regarding rental costs without any subjective qualifiers or emotional language.\n",
      "\n",
      "3. There are no apparent ambiguities in the statement that could suggest a subjective interpretation. The comparisons made are clear and based on concrete data. All statements are fact-based, adhering strictly to what is presented as reality in terms of cost comparisons.\n",
      "\n",
      "4. Given the clarity and straightforwardness of the language and content in the statement, I feel very confident in the classification as objective. There are no indicators that suggest an opinion or personal view is being expressed.\n",
      "\n",
      "Uncertainty score: 10\n",
      "UQ Score: 0.100\n",
      "\n",
      "Sentence: We apologise to TikTok for not approaching it for comment prior to publication.\n",
      "Response: 1. The statement involves an apology directed towards TikTok, indicating that the author recognizes a mistake made in the process of publication. The language used is formal and factual; there is no indication of personal emotion or subjective opinion beyond the acknowledgment of an oversight.\n",
      "\n",
      "2. The proposed answer \"objective\" makes sense in this context because the statement is primarily about the actions taken (or not taken) by the author regarding publication practices. It does not express a personal opinion or emotional viewpoint; rather, it conveys a straightforward fact about an apology issued.\n",
      "\n",
      "3. While there could be some ambiguity regarding the tone (as apologies can sometimes be seen as reflective of the author's views), in this instance, it strictly outlines a procedural lapse without introducing personal interpretation or emotional content. The focus is on factual acknowledgment of a mistake, rather than a subjective evaluation of the implications or consequences of that mistake.\n",
      "\n",
      "4. I am quite confident in this classification, as the statement maintains a neutral tone and centers on an apology concerning procedural oversight without expressing any subjective interpretation or emotional bias.\n",
      "\n",
      "Uncertainty score: 10\n",
      "UQ Score: 0.100\n",
      "\n",
      "Sentence: Crumbling parliament patched up with a few fig leaves  Parliament gained some new residents yesterday, and there are already questions as to their expenses.\n",
      "Response: 1. The statement includes a metaphorical phrase, \"crumbling parliament patched up with a few fig leaves,\" which implies a negative interpretation of the state of parliament and suggests superficial attempts to address issues. The use of the phrase \"fig leaves\" generally conveys a sense of dishonesty or lack of substance, indicating a critical stance rather than merely reporting facts. Additionally, \"there are already questions as to their expenses\" hints at a skepticism regarding transparency, reflecting the author's viewpoint rather than providing purely factual information.\n",
      "\n",
      "2. The proposed answer \"subjective\" makes sense because the statement conveys a personal viewpoint of the author on the state of the parliament and the legitimacy of new residents and their expenses. It does not merely present facts; instead, it reflects the author's interpretation of the events, thus aligning with the definition of subjective content.\n",
      "\n",
      "3. While the statement includes factual elements (such as new residents in parliament), the framing and choice of language suggest an emotional evaluation rather than neutral reporting. The use of phrases that carry implicit criticism may introduce some ambiguity, as one might argue that factual events are described. However, the tone and implications strongly lean towards subjectivity.\n",
      "\n",
      "4. I am quite confident in this classification, as the markers of subjectivity are clear in the critical language used and the author's interpretation of the events surrounding the parliament.\n",
      "\n",
      "Uncertainty score: 90\n",
      "UQ Score: 0.900\n"
     ]
    }
   ],
   "source": [
    "# Print first 5 responses and their uncertainty scores for each model\n",
    "for model_name in verbalised_responses.keys():\n",
    "    print(f\"\\n=== {model_name} ===\")\n",
    "    for i, (sentence, response_data) in enumerate(list(verbalised_responses[model_name].items())[:10]):\n",
    "        print(f\"\\nSentence: {sentence}\")\n",
    "        print(f\"Response: {response_data['response']}\")\n",
    "        print(f\"UQ Score: {uqs[model_name][i]:.3f}\")\n",
    "\n",
    "   \n"
   ]
  },
  {
   "cell_type": "code",
   "execution_count": 15,
   "metadata": {},
   "outputs": [
    {
     "name": "stdout",
     "output_type": "stream",
     "text": [
      "Saving UQs for openai to results/openai/uncertainty_estimates/verbalised_uncertainty.npy\n"
     ]
    }
   ],
   "source": [
    "for model_name, uq_scores in uqs.items():\n",
    "    # overwrite with corrected uqs to file\n",
    "    path = os.path.join(\"results\", model_name, \"uncertainty_estimates\", \"verbalised_uncertainty.npy\")\n",
    "    if os.path.exists(path):\n",
    "        print(f\"Saving UQs for {model_name} to {path}\")\n",
    "        np.save(path, uq_scores)"
   ]
  },
  {
   "cell_type": "markdown",
   "metadata": {},
   "source": [
    "## Updating hybrid now that verbalised was corrected\n",
    "This is the exact same implementation as in the verbalised_and_sampling.py script. Assuming alpha = 0.9."
   ]
  },
  {
   "cell_type": "code",
   "execution_count": 9,
   "metadata": {},
   "outputs": [
    {
     "name": "stdout",
     "output_type": "stream",
     "text": [
      "Calculating hybrid UQs for openai\n",
      "Calculating hybrid UQs for Meta-Llama-3.1-8B-Instruct-GPTQ-INT4\n",
      "Calculating hybrid UQs for Mistral-7B-Instruct-v0.3-GPTQ-4bit\n"
     ]
    }
   ],
   "source": [
    "hybrid_uq = {}\n",
    "for model_name, uq_scores in uqs.items():\n",
    "    save_path = os.path.join(\"results\", model_name, \"uncertainty_estimates\")\n",
    "    if os.path.exists(save_path):\n",
    "        print(f\"Calculating hybrid UQs for {model_name}\")\n",
    "        sampling_path = os.path.join(save_path, \"sample_avg_dev_uncertainty.npy\")\n",
    "        sample_scores = np.load(sampling_path)\n",
    "        uncertainty = np.full_like(uq_scores, -1.0)\n",
    "        valid_indices = (uq_scores != -1.0) & (sample_scores != -1.0)\n",
    "        uncertainty[valid_indices] = 0.1 * uq_scores[valid_indices] + 0.9 * sample_scores[valid_indices]\n",
    "        hybrid_uq[model_name] = uncertainty\n",
    "\n"
   ]
  },
  {
   "cell_type": "code",
   "execution_count": 10,
   "metadata": {},
   "outputs": [
    {
     "name": "stdout",
     "output_type": "stream",
     "text": [
      "Saving UQs for openai to results/openai/uncertainty_estimates/verbalised_and_sampling_hybrid_uncertainty.npy\n",
      "Saving UQs for Meta-Llama-3.1-8B-Instruct-GPTQ-INT4 to results/Meta-Llama-3.1-8B-Instruct-GPTQ-INT4/uncertainty_estimates/verbalised_and_sampling_hybrid_uncertainty.npy\n",
      "Saving UQs for Mistral-7B-Instruct-v0.3-GPTQ-4bit to results/Mistral-7B-Instruct-v0.3-GPTQ-4bit/uncertainty_estimates/verbalised_and_sampling_hybrid_uncertainty.npy\n"
     ]
    }
   ],
   "source": [
    "for model_name, uq_scores in hybrid_uq.items():\n",
    "    # overwrite with corrected uqs to file\n",
    "    path = os.path.join(\"results\", model_name, \"uncertainty_estimates\", \"verbalised_and_sampling_hybrid_uncertainty.npy\")\n",
    "    print(f\"Saving UQs for {model_name} to {path}\")\n",
    "    np.save(path, uq_scores)"
   ]
  },
  {
   "cell_type": "markdown",
   "metadata": {},
   "source": [
    "## Concating intermediate results from OpenAI\n",
    "Due to an error on open AI servers. Also had to recalculate uq for OpenAI after using the above cells."
   ]
  },
  {
   "cell_type": "code",
   "execution_count": 20,
   "metadata": {},
   "outputs": [
    {
     "name": "stdout",
     "output_type": "stream",
     "text": [
      "Reading verbalised_responses_intermediate_first_20.json...\n",
      "Added 20 entries from verbalised_responses_intermediate_first_20.json\n",
      "Reading verbalised_responses_intermediate_21_to_55.json...\n",
      "Added 35 entries from verbalised_responses_intermediate_21_to_55.json\n",
      "Reading verbalised_responses_56_to_100.json...\n",
      "Added 45 entries from verbalised_responses_56_to_100.json\n",
      "Blanco established himself earlier in his career working for Dr. Luke's Kasz Money Productions.\n",
      "The journalist Mike Smith was struck yesterday when he noticed\n",
      "I know you was heartbroken lol.\"\n"
     ]
    }
   ],
   "source": [
    "# Define the directory and files\n",
    "base_dir = \"results/openai/uncertainty_estimates\"\n",
    "# Order of files is important\n",
    "files = [\n",
    "    \"verbalised_responses_intermediate_first_20.json\",\n",
    "    \"verbalised_responses_intermediate_21_to_55.json\",\n",
    "    \"verbalised_responses_56_to_100.json\"\n",
    "]\n",
    "\n",
    "def merge_json_files():\n",
    "    # Initialize merged dictionary\n",
    "    merged_responses = {}\n",
    "    \n",
    "    # Read and merge each file\n",
    "    for file in files:\n",
    "        file_path = os.path.join(base_dir, file)\n",
    "        print(f\"Reading {file}...\")\n",
    "        with open(file_path, 'r') as f:\n",
    "            data = json.load(f)\n",
    "            # Update merged dictionary with new entries\n",
    "            merged_responses.update(data)\n",
    "            print(f\"Added {len(data)} entries from {file}\")\n",
    "\n",
    "    if len(merged_responses.keys()) != 100:\n",
    "        print(\"Incomplete merge\")\n",
    "        return\n",
    "    \n",
    "    return merged_responses\n",
    "\n",
    "merged_responses = merge_json_files()\n",
    "print(list(merged_responses.keys())[0])\n",
    "print(list(merged_responses.keys())[20])\n",
    "print(list(merged_responses.keys())[55])\n"
   ]
  },
  {
   "cell_type": "code",
   "execution_count": 21,
   "metadata": {},
   "outputs": [
    {
     "name": "stdout",
     "output_type": "stream",
     "text": [
      "\n",
      "Saving merged results to results/openai/uncertainty_estimates/verbalised_responses.json\n",
      "Total entries: 100\n"
     ]
    }
   ],
   "source": [
    "output_path = os.path.join(base_dir, \"verbalised_responses.json\")\n",
    "print(f\"\\nSaving merged results to {output_path}\")\n",
    "print(f\"Total entries: {len(merged_responses)}\")\n",
    "\n",
    "with open(output_path, 'w') as f:\n",
    "    json.dump(merged_responses, f, indent=2)\n",
    "\n"
   ]
  }
 ],
 "metadata": {
  "kernelspec": {
   "display_name": "llm-uncertainty",
   "language": "python",
   "name": "python3"
  },
  "language_info": {
   "codemirror_mode": {
    "name": "ipython",
    "version": 3
   },
   "file_extension": ".py",
   "mimetype": "text/x-python",
   "name": "python",
   "nbconvert_exporter": "python",
   "pygments_lexer": "ipython3",
   "version": "3.10.18"
  }
 },
 "nbformat": 4,
 "nbformat_minor": 2
}
